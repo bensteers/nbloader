{
 "cells": [
  {
   "cell_type": "code",
   "execution_count": null,
   "metadata": {},
   "outputs": [],
   "source": [
    "%matplotlib inline"
   ]
  },
  {
   "cell_type": "code",
   "execution_count": null,
   "metadata": {},
   "outputs": [],
   "source": [
    "from nbloader import Notebook\n",
    "from nbloader.widget import NotebookWidget, Tab\n",
    "\n",
    "notebook = Notebook('test.ipynb')\n",
    "# tag __init__ is executed\n",
    "assert notebook.ns['a'] == 5\n",
    "\n",
    "try:\n",
    "    notebook.ns['b']\n",
    "except KeyError:\n",
    "    assert True\n",
    "else:\n",
    "    assert False\n",
    "\n",
    "notebook.run_all()\n",
    "assert notebook.ns['a'] == 6\n",
    "assert notebook.ns['b'] == 10\n",
    "b = 6\n",
    "assert notebook.ns['b'] == 10\n",
    "\n",
    "# testing interactivity\n",
    "c, d = 2, 3\n",
    "notebook = Notebook('test.ipynb', ns=globals())\n",
    "assert notebook.ns['c'] == c\n",
    "assert notebook.ns['d'] == d\n",
    "assert notebook.run_tag('create_b').ns['b'] == 10\n",
    "assert b == 10"
   ]
  },
  {
   "cell_type": "code",
   "execution_count": null,
   "metadata": {},
   "outputs": [],
   "source": [
    "notebook.summary()"
   ]
  },
  {
   "cell_type": "code",
   "execution_count": null,
   "metadata": {},
   "outputs": [],
   "source": []
  },
  {
   "cell_type": "code",
   "execution_count": null,
   "metadata": {},
   "outputs": [],
   "source": [
    "notebook = Notebook('test.ipynb')\n",
    "print('----- init done --------')\n",
    "notebook.run_tag('add_one')\n",
    "print(notebook.ns['a']) # 6\n",
    "assert notebook.ns['a'] == 6\n",
    "\n",
    "notebook.run_tag('add_one')\n",
    "print(notebook.ns['a']) # 7\n",
    "assert notebook.ns['a'] == 7\n",
    "\n",
    "notebook.ns['a'] = 0\n",
    "notebook.run_tag('add_one')\n",
    "print(notebook.ns['a']) # 1\n",
    "assert notebook.ns['a'] == 1"
   ]
  },
  {
   "cell_type": "code",
   "execution_count": null,
   "metadata": {},
   "outputs": [],
   "source": [
    "for c in notebook.cells:\n",
    "    print(c['tags'])"
   ]
  },
  {
   "cell_type": "code",
   "execution_count": null,
   "metadata": {},
   "outputs": [],
   "source": [
    "# we should see everything run twice\n",
    "notebook.run_tag('Data')\n",
    "notebook.run_tag('# Data')\n",
    "print('-----data h1 done-----')\n",
    "notebook.run_tag('Data 1')\n",
    "notebook.run_tag('## Data 1')\n",
    "print('-----data 1 h2 done-----')\n",
    "notebook.run_tag('Data 2')\n",
    "notebook.run_tag('## Data 2')\n",
    "print('-----data 2 h2 done-----')\n",
    "\n",
    "notebook.run_tag('Plot')\n",
    "notebook.run_tag('# Plot')\n",
    "print('-----plot h1 done-----')\n",
    "notebook.run_tag('Plot 1')\n",
    "notebook.run_tag('## Plot 1')\n",
    "print('-----plot 1 h2 done-----')\n",
    "notebook.run_tag('Plot 2')\n",
    "notebook.run_tag('## Plot 2')\n",
    "print('-----plot 2 h2 done-----')"
   ]
  },
  {
   "cell_type": "code",
   "execution_count": 1,
   "metadata": {},
   "outputs": [],
   "source": [
    "import ipywidgets.widgets as w"
   ]
  },
  {
   "cell_type": "code",
   "execution_count": 11,
   "metadata": {},
   "outputs": [],
   "source": [
    "from importlib import reload"
   ]
  },
  {
   "cell_type": "code",
   "execution_count": 12,
   "metadata": {},
   "outputs": [
    {
     "data": {
      "text/plain": [
       "<module 'ipywidgets.widgets' from '/anaconda3/lib/python3.7/site-packages/ipywidgets/widgets/__init__.py'>"
      ]
     },
     "execution_count": 12,
     "metadata": {},
     "output_type": "execute_result"
    }
   ],
   "source": [
    "reload(w)"
   ]
  },
  {
   "cell_type": "code",
   "execution_count": 2,
   "metadata": {},
   "outputs": [],
   "source": [
    "_exit__ = w.Output.__exit__"
   ]
  },
  {
   "cell_type": "code",
   "execution_count": 5,
   "metadata": {},
   "outputs": [],
   "source": [
    "w.Output.__exit__ = _exit__"
   ]
  },
  {
   "cell_type": "code",
   "execution_count": 3,
   "metadata": {},
   "outputs": [],
   "source": [
    "def __exit__(self, etype, evalue, tb):\n",
    "        \"\"\"Called upon exiting output widget context manager.\"\"\"\n",
    "        ip = get_ipython()\n",
    "        if etype is not None:\n",
    "            if ip:\n",
    "                ip.showtraceback((etype, evalue, tb), tb_offset=0)\n",
    "        self._flush()\n",
    "        self.__counter -= 1\n",
    "        if self.__counter == 0:\n",
    "            self.msg_id = ''\n",
    "        # suppress exceptions when in IPython, since they are shown above,\n",
    "        # otherwise let someone else handle it\n",
    "        return None if ip else None\n",
    "\n",
    "w.Output.__exit__ = __exit__"
   ]
  },
  {
   "cell_type": "code",
   "execution_count": 6,
   "metadata": {},
   "outputs": [
    {
     "data": {
      "application/vnd.jupyter.widget-view+json": {
       "model_id": "15c40618658243de808980dc88223509",
       "version_major": 2,
       "version_minor": 0
      },
      "text/plain": [
       "Output()"
      ]
     },
     "metadata": {},
     "output_type": "display_data"
    },
    {
     "data": {
      "application/vnd.jupyter.widget-view+json": {
       "model_id": "7e16a5041bcd4f629b9e6e695a64fbf8",
       "version_major": 2,
       "version_minor": 0
      },
      "text/plain": [
       "Output()"
      ]
     },
     "metadata": {},
     "output_type": "display_data"
    },
    {
     "data": {
      "application/vnd.jupyter.widget-view+json": {
       "model_id": "b0089821e96846d68d0593bd4377f39e",
       "version_major": 2,
       "version_minor": 0
      },
      "text/plain": [
       "Output()"
      ]
     },
     "metadata": {},
     "output_type": "display_data"
    },
    {
     "data": {
      "text/plain": [
       "\"this shouldn't be happening\""
      ]
     },
     "execution_count": 6,
     "metadata": {},
     "output_type": "execute_result"
    }
   ],
   "source": [
    "for i in range(3):\n",
    "    out = w.Output()\n",
    "    display(out)\n",
    "    with out:\n",
    "        raise Exception\n",
    "    \n",
    "\"this shouldn't be happening\""
   ]
  },
  {
   "cell_type": "code",
   "execution_count": null,
   "metadata": {},
   "outputs": [],
   "source": [
    "tab = Tab()\n",
    "display(tab)\n",
    "\n",
    "with tab.capture_item('init'):\n",
    "    notebook = NotebookWidget('test.ipynb')\n",
    "    notebook.ast_node_interactivity = 'last_expr'\n",
    "    print('Data')\n",
    "    notebook.run_tag('Data', collapsed=True)\n",
    "    notebook.run_tag('Data', append=True)\n",
    "    notebook.run_tag('__skip__', append=True)\n",
    "    notebook.run_tag('Data', append=True)\n",
    "    notebook.run_tag('Data', append=True)\n",
    "    notebook.run_tag('Data', append=True)\n",
    "\n",
    "for i in range(5):\n",
    "    with tab.capture_item(str(i)):\n",
    "        print(i)\n",
    "        notebook.ns['cycles'] += i\n",
    "        notebook.run_tag('Data', show=False)\n",
    "        print('Plot')\n",
    "        notebook.run_tag('Plot')"
   ]
  },
  {
   "cell_type": "code",
   "execution_count": null,
   "metadata": {},
   "outputs": [],
   "source": [
    "notebook = Notebook('test.ipynb')\n",
    "notebook.run_tag('Data')\n",
    "notebook.run_tag('Plot');"
   ]
  },
  {
   "cell_type": "code",
   "execution_count": null,
   "metadata": {},
   "outputs": [],
   "source": [
    "notebook.run_tag(('# Plot', 'Plot 1'))\n",
    "notebook.run_tag(('# Plot', 'Plot 1234'))"
   ]
  },
  {
   "cell_type": "code",
   "execution_count": null,
   "metadata": {},
   "outputs": [],
   "source": []
  }
 ],
 "metadata": {
  "kernelspec": {
   "display_name": "Python 3",
   "language": "python",
   "name": "python3"
  },
  "language_info": {
   "codemirror_mode": {
    "name": "ipython",
    "version": 3
   },
   "file_extension": ".py",
   "mimetype": "text/x-python",
   "name": "python",
   "nbconvert_exporter": "python",
   "pygments_lexer": "ipython3",
   "version": "3.7.1"
  }
 },
 "nbformat": 4,
 "nbformat_minor": 2
}
