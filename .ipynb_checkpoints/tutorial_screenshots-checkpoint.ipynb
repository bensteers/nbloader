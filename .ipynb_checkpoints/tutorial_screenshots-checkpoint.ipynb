{
 "cells": [
  {
   "cell_type": "markdown",
   "metadata": {},
   "source": [
    "### Model Notebook"
   ]
  },
  {
   "cell_type": "code",
   "execution_count": 1,
   "metadata": {},
   "outputs": [],
   "source": [
    "lerning_rate = .5\n",
    "dataset = get_default_dataset()"
   ]
  },
  {
   "cell_type": "code",
   "execution_count": 2,
   "metadata": {},
   "outputs": [],
   "source": [
    "# train\n",
    "model = Model()\n",
    "model.fit(dataset.x, dataset.y)\n",
    "score = model.mean_square_error()"
   ]
  },
  {
   "cell_type": "markdown",
   "metadata": {},
   "source": [
    "### Optimizer Notebook"
   ]
  },
  {
   "cell_type": "code",
   "execution_count": 1,
   "metadata": {},
   "outputs": [],
   "source": [
    "model = Notebook('model.ipynb')\n",
    "\n",
    "score = []\n",
    "for lerning_rate in [.001, .01, .1]:\n",
    "    model.ns['lerning_rate'] = lerning_rate\n",
    "    model.ns['dataset'] = new_dataset\n",
    "    model.run_tag('train')\n",
    "    score.append(model.ns['score'])"
   ]
  },
  {
   "cell_type": "markdown",
   "metadata": {},
   "source": [
    "### Looper Notebook"
   ]
  },
  {
   "cell_type": "code",
   "execution_count": 1,
   "metadata": {},
   "outputs": [],
   "source": [
    "parser = Notebook('parser.ipynb')\n",
    "\n",
    "data = []\n",
    "for filename in os.listdir():\n",
    "    parser.ns['filename'] = filename\n",
    "    parser.run_all(blacklist=['init_filename'])\n",
    "    data.append(parser.ns['result'])\n",
    "    # just in case:\n",
    "    parser.restart()"
   ]
  },
  {
   "cell_type": "markdown",
   "metadata": {},
   "source": [
    "### Parser Notebook"
   ]
  },
  {
   "cell_type": "code",
   "execution_count": 1,
   "metadata": {},
   "outputs": [],
   "source": [
    "# init_filename\n",
    "filename = 'file0.json'"
   ]
  },
  {
   "cell_type": "markdown",
   "metadata": {},
   "source": [
    "### Here I do something with my json that can be very well documented and easily debugged\n",
    "\n",
    "..."
   ]
  },
  {
   "cell_type": "markdown",
   "metadata": {},
   "source": [
    "### Take it for what it's worth"
   ]
  }
 ],
 "metadata": {
  "kernelspec": {
   "display_name": "Python 3",
   "language": "python",
   "name": "python3"
  },
  "language_info": {
   "codemirror_mode": {
    "name": "ipython",
    "version": 3
   },
   "file_extension": ".py",
   "mimetype": "text/x-python",
   "name": "python",
   "nbconvert_exporter": "python",
   "pygments_lexer": "ipython3",
   "version": "3.6.3"
  }
 },
 "nbformat": 4,
 "nbformat_minor": 2
}
