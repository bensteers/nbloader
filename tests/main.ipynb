{
 "cells": [
  {
   "cell_type": "code",
   "execution_count": 23,
   "metadata": {},
   "outputs": [],
   "source": [
    "from nbloader import Notebook\n",
    "\n",
    "test = Notebook('test_notebook.ipynb')\n",
    "# tag __init__ is executed\n",
    "assert test.ns['a'] == 5\n",
    "\n",
    "test.run_all()\n",
    "assert test.ns['a'] == 6\n",
    "assert test.ns['b'] == 10\n",
    "\n",
    "test = Notebook('test_notebook.ipynb')\n",
    "try:\n",
    "    test.ns['b']\n",
    "except KeyError:\n",
    "    assert True\n",
    "else:\n",
    "    assert False\n",
    "\n",
    "assert test.run_tag('create_b').ns['b'] == 10"
   ]
  },
  {
   "cell_type": "code",
   "execution_count": 24,
   "metadata": {},
   "outputs": [],
   "source": [
    "try:\n",
    "    a\n",
    "except NameError:\n",
    "    assert True\n",
    "else:\n",
    "    assert False\n",
    "test = Notebook('test_notebook.ipynb', ns=globals())\n",
    "assert a == 5\n",
    "del a"
   ]
  },
  {
   "cell_type": "code",
   "execution_count": 2,
   "metadata": {},
   "outputs": [
    {
     "name": "stdout",
     "output_type": "stream",
     "text": [
      "6\n",
      "7\n",
      "1\n"
     ]
    }
   ],
   "source": [
    "from nbloader import Notebook\n",
    "notebook = Notebook('test_notebook.ipynb')\n",
    "notebook.run_tag('add_one')\n",
    "print(notebook.ns['a']) # 6\n",
    "notebook.run_tag('add_one')\n",
    "print(notebook.ns['a']) # 7\n",
    "notebook.ns['a'] = 0\n",
    "notebook.run_tag('add_one')\n",
    "print(notebook.ns['a']) # 1"
   ]
  },
  {
   "cell_type": "code",
   "execution_count": 4,
   "metadata": {},
   "outputs": [
    {
     "name": "stdout",
     "output_type": "stream",
     "text": [
      "10\n"
     ]
    }
   ],
   "source": []
  },
  {
   "cell_type": "code",
   "execution_count": null,
   "metadata": {
    "collapsed": true
   },
   "outputs": [],
   "source": []
  }
 ],
 "metadata": {
  "kernelspec": {
   "display_name": "Python 3",
   "language": "python",
   "name": "python3"
  }
 },
 "nbformat": 4,
 "nbformat_minor": 2
}
